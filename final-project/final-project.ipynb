{
 "cells": [
  {
   "cell_type": "code",
   "execution_count": 2,
   "metadata": {},
   "outputs": [],
   "source": [
    "import cv2 as cv\n",
    "import numpy as np\n",
    "import matplotlib.pyplot as plt\n",
    "import os\n",
    "import glob\n",
    "import pandas as pd\n",
    "\n",
    "%matplotlib inline"
   ]
  },
  {
   "cell_type": "code",
   "execution_count": 7,
   "metadata": {},
   "outputs": [],
   "source": [
    "cap = cv.VideoCapture('data/Video1_husky.mp4')\n",
    "\n",
    "background_remover = cv.createBackgroundSubtractorKNN(detectShadows=True)\n",
    "\n",
    "# Read until video is completed and store the frames\n",
    "frames = []\n",
    "max_cnts = []\n",
    "\n",
    "while(cap.isOpened()):\n",
    "    ret, frame = cap.read()\n",
    "\n",
    "    #apply gaussian blur to reduce noise\n",
    "    frame = cv.GaussianBlur(frame, (5, 5), 0)\n",
    "    \n",
    "    mask = background_remover.apply(frame)\n",
    "    _, mask = cv.threshold(mask, 254, 255, cv.THRESH_BINARY)\n",
    "    mask = cv.morphologyEx(mask, cv.MORPH_OPEN, np.ones((3,3),np.uint8))\n",
    "\n",
    "    contours, _ = cv.findContours(mask, cv.RETR_TREE, cv.CHAIN_APPROX_NONE)\n",
    "\n",
    "    max_cnt = [0, 0, 0]\n",
    "    for cnt in contours:\n",
    "        area = cv.contourArea(cnt)\n",
    "        if area > 800 and len(cnt) >= 5:\n",
    "            if area > max_cnt[0]:\n",
    "                max_cnt = [area, cnt]\n",
    "    \n",
    "    if max_cnt[0] != 0:\n",
    "        elipse = cv.fitEllipse(max_cnt[1])\n",
    "        cv.ellipse(frame, elipse, (0, 255, 0), 2)\n",
    "    #cv.drawContours(frame, [cnt], -1, (0, 255, 0), 2)\n",
    "\n",
    "\n",
    "    cv.imshow('mask', frame)\n",
    "\n",
    "    if ret == True:\n",
    "        frames.append(frame)\n",
    "        max_cnts.append(max_cnt)\n",
    "\n",
    "    key = cv.waitKey(33)\n",
    "    \n",
    "    if key == 27:\n",
    "        break\n",
    "\n",
    "cap.release()\n",
    "cv.destroyAllWindows()"
   ]
  },
  {
   "cell_type": "code",
   "execution_count": null,
   "metadata": {},
   "outputs": [],
   "source": [
    "# convert frames to numpy array and rgb\n",
    "frames = [cv.cvtColor(frame, cv.COLOR_BGR2RGB) for frame in frames]\n",
    "frames = np.array(frames)"
   ]
  },
  {
   "cell_type": "code",
   "execution_count": 14,
   "metadata": {},
   "outputs": [],
   "source": [
    "background_remover = cv.createBackgroundSubtractorKNN(detectShadows=False)\n",
    "mask = [background_remover.apply(frame) for frame in frames]"
   ]
  }
 ],
 "metadata": {
  "kernelspec": {
   "display_name": "Python 3.8.11 ('cvision')",
   "language": "python",
   "name": "python3"
  },
  "language_info": {
   "codemirror_mode": {
    "name": "ipython",
    "version": 3
   },
   "file_extension": ".py",
   "mimetype": "text/x-python",
   "name": "python",
   "nbconvert_exporter": "python",
   "pygments_lexer": "ipython3",
   "version": "3.8.11"
  },
  "orig_nbformat": 4,
  "vscode": {
   "interpreter": {
    "hash": "e151ec41af6c73defb9fdbb32367e63ed7397d4ef1c31f42af2a5fe7e75f2c02"
   }
  }
 },
 "nbformat": 4,
 "nbformat_minor": 2
}
