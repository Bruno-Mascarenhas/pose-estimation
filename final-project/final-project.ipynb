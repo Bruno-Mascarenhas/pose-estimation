{
 "cells": [
  {
   "cell_type": "code",
   "execution_count": 1,
   "metadata": {},
   "outputs": [],
   "source": [
    "import cv2 as cv\n",
    "import numpy as np\n",
    "import matplotlib.pyplot as plt\n",
    "import os\n",
    "import glob\n",
    "import pandas as pd\n",
    "\n",
    "%matplotlib inline"
   ]
  },
  {
   "cell_type": "code",
   "execution_count": 14,
   "metadata": {},
   "outputs": [],
   "source": [
    "cap = cv.VideoCapture('data/Video1_husky.mp4')\n",
    "\n",
    "background_remover = cv.createBackgroundSubtractorKNN(detectShadows=True)\n",
    "\n",
    "# Read until video is completed and store the frames\n",
    "frames = []\n",
    "max_cnts = []\n",
    "\n",
    "while(cap.isOpened()):\n",
    "    ret, frame = cap.read()\n",
    "\n",
    "    #apply gaussian blur to reduce noise\n",
    "\n",
    "    result = frame.copy()\n",
    "    image = cv.cvtColor(frame, cv.COLOR_BGR2HSV)\n",
    "    lower = np.array([165,30,20])\n",
    "    upper = np.array([189,255,255])\n",
    "    mask = cv.inRange(image, lower, upper)\n",
    "    result = cv.bitwise_and(result, result, mask=mask)\n",
    "\n",
    "    cv.imshow('mask', result)\n",
    "    # frame = cv.GaussianBlur(frame, (5, 5), 0)\n",
    "    \n",
    "    # mask = background_remover.apply(frame)\n",
    "    # _, mask = cv.threshold(mask, 254, 255, cv.THRESH_BINARY)\n",
    "    # mask = cv.morphologyEx(mask, cv.MORPH_OPEN, np.ones((3,3),np.uint8))\n",
    "    \n",
    "    contours, _ = cv.findContours(mask, cv.RETR_TREE, cv.CHAIN_APPROX_NONE)\n",
    "\n",
    "    max_cnt = [0, 0]\n",
    "    for cnt in contours:\n",
    "        area = cv.contourArea(cnt)\n",
    "        if area > 800 and len(cnt) >= 5:\n",
    "            if area > max_cnt[0]:\n",
    "                max_cnt = [area, cnt]\n",
    "    \n",
    "    if max_cnt[0] != 0:\n",
    "        elipse = cv.fitEllipse(max_cnt[1])\n",
    "        cv.ellipse(frame, elipse, (0, 255, 0), 2)\n",
    "    #cv.drawContours(frame, [cnt], -1, (0, 255, 0), 2)\n",
    "\n",
    "    # cv.imshow('mask', frame)\n",
    "\n",
    "    if ret == True:\n",
    "        frames.append(frame)\n",
    "        max_cnts.append(max_cnt)\n",
    "\n",
    "    key = cv.waitKey(33)\n",
    "    \n",
    "    if key == 27:\n",
    "        break\n",
    "\n",
    "cap.release()\n",
    "cv.destroyAllWindows()"
   ]
  },
  {
   "cell_type": "code",
   "execution_count": 3,
   "metadata": {},
   "outputs": [],
   "source": [
    "# convert frames to numpy array and rgb\n",
    "frames = [cv.cvtColor(frame, cv.COLOR_BGR2RGB) for frame in frames]\n",
    "frames = np.array(frames)"
   ]
  },
  {
   "cell_type": "code",
   "execution_count": 4,
   "metadata": {},
   "outputs": [],
   "source": [
    "background_remover = cv.createBackgroundSubtractorKNN(detectShadows=False)\n",
    "mask = [background_remover.apply(frame) for frame in frames]"
   ]
  }
 ],
 "metadata": {
  "kernelspec": {
   "display_name": "Python 3.11.0 64-bit",
   "language": "python",
   "name": "python3"
  },
  "language_info": {
   "codemirror_mode": {
    "name": "ipython",
    "version": 3
   },
   "file_extension": ".py",
   "mimetype": "text/x-python",
   "name": "python",
   "nbconvert_exporter": "python",
   "pygments_lexer": "ipython3",
   "version": "3.11.0"
  },
  "orig_nbformat": 4,
  "vscode": {
   "interpreter": {
    "hash": "e7370f93d1d0cde622a1f8e1c04877d8463912d04d973331ad4851f04de6915a"
   }
  }
 },
 "nbformat": 4,
 "nbformat_minor": 2
}
